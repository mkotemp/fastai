{
  "metadata": {
    "kernelspec": {
      "display_name": "Python 3",
      "name": "python3"
    },
    "language_info": {
      "name": "python",
      "version": "3.7.12",
      "mimetype": "text/x-python",
      "codemirror_mode": {
        "name": "ipython",
        "version": 3
      },
      "pygments_lexer": "ipython3",
      "nbconvert_exporter": "python",
      "file_extension": ".py"
    },
    "kaggle": {
      "accelerator": "gpu",
      "dataSources": [],
      "dockerImageVersionId": 30177,
      "isInternetEnabled": true,
      "language": "python",
      "sourceType": "notebook",
      "isGpuEnabled": true
    },
    "colab": {
      "provenance": [],
      "gpuType": "L4",
      "include_colab_link": true
    },
    "accelerator": "GPU"
  },
  "nbformat_minor": 0,
  "nbformat": 4,
  "cells": [
    {
      "cell_type": "markdown",
      "metadata": {
        "id": "view-in-github",
        "colab_type": "text"
      },
      "source": [
        "<a href=\"https://colab.research.google.com/github/mkotemp/fastai/blob/main/MKO_Copy_of_is_it_a_bird_updated_version_dec_2023.ipynb\" target=\"_parent\"><img src=\"https://colab.research.google.com/assets/colab-badge.svg\" alt=\"Open In Colab\"/></a>"
      ]
    },
    {
      "cell_type": "markdown",
      "source": [
        "## Is it a bird?"
      ],
      "metadata": {
        "id": "eJSotbGI7nVh"
      }
    },
    {
      "cell_type": "markdown",
      "source": [
        "#MKO NOTE 6/16/2024:\n",
        "This is a version of 'is it a bird' that works (the version found in the course doesn't run for me). I found this notebook after searching the fast.ai forums. I put a 'mkotemp' to denote where I see there were changes to the code from the original version.\n",
        "\n",
        "\n"
      ],
      "metadata": {
        "id": "ohdc7M-B63_t"
      }
    },
    {
      "cell_type": "code",
      "source": [
        "#NB: Kaggle requires phone verification to use the internet or a GPU. If you haven't done that yet, the cell below will fail\n",
        "#    This code is only here to check that your internet is enabled. It doesn't do anything else.\n",
        "#    Here's a help thread on getting your phone number verified: https://www.kaggle.com/product-feedback/135367\n",
        "\n",
        "import socket,warnings\n",
        "try:\n",
        "    socket.setdefaulttimeout(1)\n",
        "    socket.socket(socket.AF_INET, socket.SOCK_STREAM).connect(('1.1.1.1', 53))\n",
        "except socket.error as ex: raise Exception(\"STOP: No internet. Click '>|' in top right and set 'Internet' switch to on\")"
      ],
      "metadata": {
        "execution": {
          "iopub.status.busy": "2024-06-16T02:36:09.048214Z",
          "iopub.execute_input": "2024-06-16T02:36:09.049019Z",
          "iopub.status.idle": "2024-06-16T02:36:09.085494Z",
          "shell.execute_reply.started": "2024-06-16T02:36:09.048922Z",
          "shell.execute_reply": "2024-06-16T02:36:09.084884Z"
        },
        "trusted": true,
        "id": "RvEWijH27nVl"
      },
      "execution_count": null,
      "outputs": []
    },
    {
      "cell_type": "code",
      "source": [
        "# It's a good idea to ensure you're running the latest version of any libraries you need.\n",
        "# `!pip install -Uqq <libraries>` upgrades to the latest version of <libraries>\n",
        "# NB: You can safely ignore any warnings or errors pip spits out about running as root or incompatibilities\n",
        "import os\n",
        "\n",
        "#mko updated below:\n",
        "#iskaggle = os.environ.get('KAGGLE_KERNEL_RUN_TYPE', '')\n",
        "\n",
        "#if iskaggle:\n",
        "!pip install -U duckduckgo_search\n",
        "!pip install fastai\n",
        "!pip install fastbook"
      ],
      "metadata": {
        "_kg_hide-input": true,
        "_kg_hide-output": true,
        "execution": {
          "iopub.status.busy": "2024-06-16T02:36:14.996079Z",
          "iopub.execute_input": "2024-06-16T02:36:14.996418Z",
          "iopub.status.idle": "2024-06-16T02:36:58.648897Z",
          "shell.execute_reply.started": "2024-06-16T02:36:14.996379Z",
          "shell.execute_reply": "2024-06-16T02:36:58.647953Z"
        },
        "trusted": true,
        "id": "7cph3XZY7nVo"
      },
      "execution_count": null,
      "outputs": []
    },
    {
      "cell_type": "markdown",
      "source": [
        "In 2015 the idea of creating a computer system that could recognise birds was considered so outrageously challenging that it was the basis of [this XKCD joke](https://xkcd.com/1425/):"
      ],
      "metadata": {
        "id": "3QywpGes7nVq"
      }
    },
    {
      "cell_type": "markdown",
      "source": [
        "![image.png](attachment:a0483178-c30e-4fdd-b2c2-349e130ab260.png)"
      ],
      "metadata": {
        "id": "ViCGSYDD7nVq"
      }
    },
    {
      "cell_type": "markdown",
      "source": [
        "But today, we can do exactly that, in just a few minutes, using entirely free resources!\n",
        "\n",
        "The basic steps we'll take are:\n",
        "\n",
        "1. Use DuckDuckGo to search for images of \"bird photos\"\n",
        "1. Use DuckDuckGo to search for images of \"forest photos\"\n",
        "1. Fine-tune a pretrained neural network to recognise these two groups\n",
        "1. Try running this model on a picture of a bird and see if it works."
      ],
      "metadata": {
        "id": "AZ7D4QYH7nVr"
      }
    },
    {
      "cell_type": "markdown",
      "source": [
        "## Step 1: Download images of birds and non-birds"
      ],
      "metadata": {
        "id": "EoUyqNah7nVr"
      }
    },
    {
      "cell_type": "code",
      "source": [
        "from fastbook import *\n",
        "from fastai.vision.widgets import *\n",
        "\n",
        "#mko note: this code is using 'search_images_ddg', rather than 'ddg_images'\n",
        "#mko note: return L(ddg_images(term, max_results=max_images)).itemgot('image')\n",
        "def search_images(term, max_images=30):\n",
        "    print(f\"Searching for '{term}'\")\n",
        "    return L(search_images_ddg(term, max_images=max_images))\n"
      ],
      "metadata": {
        "_kg_hide-input": true,
        "execution": {
          "iopub.status.busy": "2024-06-16T02:37:01.498944Z",
          "iopub.execute_input": "2024-06-16T02:37:01.499130Z",
          "iopub.status.idle": "2024-06-16T02:37:01.507752Z",
          "shell.execute_reply.started": "2024-06-16T02:37:01.499098Z",
          "shell.execute_reply": "2024-06-16T02:37:01.507041Z"
        },
        "trusted": true,
        "id": "LfIdpKZe7nVs"
      },
      "execution_count": null,
      "outputs": []
    },
    {
      "cell_type": "markdown",
      "source": [
        "Let's start by searching for a bird photo and seeing what kind of result we get. We'll start by getting URLs from a search:"
      ],
      "metadata": {
        "id": "1o3KZBrK7nVu"
      }
    },
    {
      "cell_type": "code",
      "source": [
        "#NB: `search_images` depends on duckduckgo.com, which doesn't always return correct responses.\n",
        "#    If you get a JSON error, just try running it again (it may take a couple of tries).\n",
        "urls = search_images('bird photos', max_images=1)\n",
        "urls[0]"
      ],
      "metadata": {
        "execution": {
          "iopub.status.busy": "2024-06-16T02:37:10.734384Z",
          "iopub.execute_input": "2024-06-16T02:37:10.735087Z",
          "iopub.status.idle": "2024-06-16T02:37:12.175301Z",
          "shell.execute_reply.started": "2024-06-16T02:37:10.735051Z",
          "shell.execute_reply": "2024-06-16T02:37:12.174536Z"
        },
        "trusted": true,
        "id": "cki0fVME7nVu"
      },
      "execution_count": null,
      "outputs": []
    },
    {
      "cell_type": "markdown",
      "source": [
        "...and then download a URL and take a look at it:"
      ],
      "metadata": {
        "id": "op3BsbAq7nVv"
      }
    },
    {
      "cell_type": "code",
      "source": [
        "from fastdownload import download_url\n",
        "dest = 'bird.jpg'\n",
        "download_url(urls[0], dest, show_progress=False)\n",
        "\n",
        "from fastai.vision.all import *\n",
        "im = Image.open(dest)\n",
        "im.to_thumb(256,256)"
      ],
      "metadata": {
        "execution": {
          "iopub.status.busy": "2024-06-16T02:37:25.610884Z",
          "iopub.execute_input": "2024-06-16T02:37:25.611218Z",
          "iopub.status.idle": "2024-06-16T02:37:25.984752Z",
          "shell.execute_reply.started": "2024-06-16T02:37:25.611178Z",
          "shell.execute_reply": "2024-06-16T02:37:25.983984Z"
        },
        "trusted": true,
        "id": "hPPOqu-27nVw"
      },
      "execution_count": null,
      "outputs": []
    },
    {
      "cell_type": "markdown",
      "source": [
        "Now let's do the same with \"forest photos\":"
      ],
      "metadata": {
        "id": "AsFurZUJ7nVx"
      }
    },
    {
      "cell_type": "code",
      "source": [
        "download_url(search_images('forest photos', max_images=1)[0], 'forest.jpg', show_progress=False)\n",
        "Image.open('forest.jpg').to_thumb(256,256)"
      ],
      "metadata": {
        "execution": {
          "iopub.status.busy": "2024-06-16T02:37:51.699453Z",
          "iopub.execute_input": "2024-06-16T02:37:51.700086Z",
          "iopub.status.idle": "2024-06-16T02:37:54.008032Z",
          "shell.execute_reply.started": "2024-06-16T02:37:51.700044Z",
          "shell.execute_reply": "2024-06-16T02:37:54.007226Z"
        },
        "trusted": true,
        "id": "3lJrTVPu7nVx"
      },
      "execution_count": null,
      "outputs": []
    },
    {
      "cell_type": "markdown",
      "source": [
        "Our searches seem to be giving reasonable results, so let's grab a few examples of each of \"bird\" and \"forest\" photos, and save each group of photos to a different folder (I'm also trying to grab a range of lighting conditions here):"
      ],
      "metadata": {
        "id": "5RD9EkFC7nVy"
      }
    },
    {
      "cell_type": "code",
      "source": [
        "searches = 'forest','bird'\n",
        "path = Path('bird_or_not')\n",
        "from time import sleep\n",
        "\n",
        "for o in searches:\n",
        "    dest = (path/o)\n",
        "    dest.mkdir(exist_ok=True, parents=True)\n",
        "    download_images(dest, urls=search_images(f'{o} photo'))\n",
        "    sleep(10)  # Pause between searches to avoid over-loading server\n",
        "    download_images(dest, urls=search_images(f'{o} sun photo'))\n",
        "    sleep(10)\n",
        "    download_images(dest, urls=search_images(f'{o} shade photo'))\n",
        "    sleep(10)\n",
        "    resize_images(path/o, max_size=400, dest=path/o)"
      ],
      "metadata": {
        "execution": {
          "iopub.status.busy": "2024-06-16T02:38:00.861601Z",
          "iopub.execute_input": "2024-06-16T02:38:00.862376Z",
          "iopub.status.idle": "2024-06-16T02:39:36.216069Z",
          "shell.execute_reply.started": "2024-06-16T02:38:00.862338Z",
          "shell.execute_reply": "2024-06-16T02:39:36.215255Z"
        },
        "trusted": true,
        "id": "MmXQE7Gk7nVy"
      },
      "execution_count": null,
      "outputs": []
    },
    {
      "cell_type": "markdown",
      "source": [
        "#MKO NOTE 6/16/2024:\n",
        "\n",
        "this section of code was added to the original notebook by the revisioner. It doesn't contribute to the program working...it just adds additional feedback for the person running the code."
      ],
      "metadata": {
        "id": "rXIRYtnn8NqN"
      }
    },
    {
      "cell_type": "code",
      "source": [
        "print(path)\n",
        "searches = 'forest','bird'\n",
        "\n",
        "for imageType in searches:\n",
        "    print(imageType)\n",
        "    content = os.listdir(path/imageType)\n",
        "    for element in content:\n",
        "        print(element)"
      ],
      "metadata": {
        "execution": {
          "iopub.status.busy": "2024-06-16T02:39:36.217945Z",
          "iopub.execute_input": "2024-06-16T02:39:36.218239Z",
          "iopub.status.idle": "2024-06-16T02:39:36.246528Z",
          "shell.execute_reply.started": "2024-06-16T02:39:36.218207Z",
          "shell.execute_reply": "2024-06-16T02:39:36.245855Z"
        },
        "trusted": true,
        "id": "sLzNJpoG7nVz"
      },
      "execution_count": null,
      "outputs": []
    },
    {
      "cell_type": "markdown",
      "source": [
        "## Step 2: Train our model"
      ],
      "metadata": {
        "id": "q3Ua8yy47nV0"
      }
    },
    {
      "cell_type": "markdown",
      "source": [
        "Some photos might not download correctly which could cause our model training to fail, so we'll remove them:"
      ],
      "metadata": {
        "id": "wLsJRryN7nV1"
      }
    },
    {
      "cell_type": "code",
      "source": [
        "failed = verify_images(get_image_files(path))\n",
        "failed.map(Path.unlink)\n",
        "len(failed)"
      ],
      "metadata": {
        "execution": {
          "iopub.status.busy": "2024-06-16T02:39:56.672365Z",
          "iopub.execute_input": "2024-06-16T02:39:56.672639Z",
          "iopub.status.idle": "2024-06-16T02:39:57.036023Z",
          "shell.execute_reply.started": "2024-06-16T02:39:56.672612Z",
          "shell.execute_reply": "2024-06-16T02:39:57.035100Z"
        },
        "trusted": true,
        "id": "1Dwr19Xb7nV1"
      },
      "execution_count": null,
      "outputs": []
    },
    {
      "cell_type": "markdown",
      "source": [
        "To train a model, we'll need `DataLoaders`, which is an object that contains a *training set* (the images used to create a model) and a *validation set* (the images used to check the accuracy of a model -- not used during training). In `fastai` we can create that easily using a `DataBlock`, and view sample images from it:"
      ],
      "metadata": {
        "id": "mVYP6oRw7nV2"
      }
    },
    {
      "cell_type": "code",
      "source": [
        "dls = DataBlock(\n",
        "    blocks=(ImageBlock, CategoryBlock),\n",
        "    get_items=get_image_files,\n",
        "    splitter=RandomSplitter(valid_pct=0.2, seed=42),\n",
        "    get_y=parent_label,\n",
        "    item_tfms=[Resize(192, method='squish')]\n",
        ").dataloaders(path, bs=32)\n",
        "\n",
        "dls.show_batch(max_n=6)"
      ],
      "metadata": {
        "execution": {
          "iopub.status.busy": "2024-06-16T02:40:08.317703Z",
          "iopub.execute_input": "2024-06-16T02:40:08.318043Z",
          "iopub.status.idle": "2024-06-16T02:40:12.090168Z",
          "shell.execute_reply.started": "2024-06-16T02:40:08.318006Z",
          "shell.execute_reply": "2024-06-16T02:40:12.089358Z"
        },
        "trusted": true,
        "id": "VVN0QhNo7nV2"
      },
      "execution_count": null,
      "outputs": []
    },
    {
      "cell_type": "markdown",
      "source": [
        "Here what each of the `DataBlock` parameters means:\n",
        "\n",
        "    blocks=(ImageBlock, CategoryBlock),\n",
        "\n",
        "The inputs to our model are images, and the outputs are categories (in this case, \"bird\" or \"forest\").\n",
        "\n",
        "    get_items=get_image_files,\n",
        "\n",
        "To find all the inputs to our model, run the `get_image_files` function (which returns a list of all image files in a path).\n",
        "\n",
        "    splitter=RandomSplitter(valid_pct=0.2, seed=42),\n",
        "\n",
        "Split the data into training and validation sets randomly, using 20% of the data for the validation set.\n",
        "\n",
        "    get_y=parent_label,\n",
        "\n",
        "The labels (`y` values) is the name of the `parent` of each file (i.e. the name of the folder they're in, which will be *bird* or *forest*).\n",
        "\n",
        "    item_tfms=[Resize(192, method='squish')]\n",
        "\n",
        "Before training, resize each image to 192x192 pixels by \"squishing\" it (as opposed to cropping it)."
      ],
      "metadata": {
        "id": "PrFCiad37nV3"
      }
    },
    {
      "cell_type": "markdown",
      "source": [
        "Now we're ready to train our model. The fastest widely used computer vision model is `resnet18`. You can train this in a few minutes, even on a CPU! (On a GPU, it generally takes under 10 seconds...)\n",
        "\n",
        "`fastai` comes with a helpful `fine_tune()` method which automatically uses best practices for fine tuning a pre-trained model, so we'll use that."
      ],
      "metadata": {
        "id": "UioGh_287nV3"
      }
    },
    {
      "cell_type": "code",
      "source": [
        "learn = vision_learner(dls, resnet18, metrics=error_rate)\n",
        "learn.fine_tune(3)"
      ],
      "metadata": {
        "execution": {
          "iopub.status.busy": "2024-06-16T02:40:24.236735Z",
          "iopub.execute_input": "2024-06-16T02:40:24.237545Z",
          "iopub.status.idle": "2024-06-16T02:40:35.806941Z",
          "shell.execute_reply.started": "2024-06-16T02:40:24.237504Z",
          "shell.execute_reply": "2024-06-16T02:40:35.805960Z"
        },
        "trusted": true,
        "id": "ZIJFQkvR7nV4"
      },
      "execution_count": null,
      "outputs": []
    },
    {
      "cell_type": "markdown",
      "source": [
        "Generally when I run this I see 100% accuracy on the validation set (although it might vary a bit from run to run).\n",
        "\n",
        "\"Fine-tuning\" a model means that we're starting with a model someone else has trained using some other dataset (called the *pretrained model*), and adjusting the weights a little bit so that the model learns to recognise your particular dataset. In this case, the pretrained model was trained to recognise photos in *imagenet*, and widely-used computer vision dataset with images covering 1000 categories) For details on fine-tuning and why it's important, check out the [free fast.ai course](https://course.fast.ai/)."
      ],
      "metadata": {
        "id": "YP-jV_kM7nV4"
      }
    },
    {
      "cell_type": "markdown",
      "source": [
        "## Step 3: Use our model (and build your own!)"
      ],
      "metadata": {
        "id": "DAhvtufZ7nV5"
      }
    },
    {
      "cell_type": "markdown",
      "source": [
        "Let's see what our model thinks about that bird we downloaded at the start:"
      ],
      "metadata": {
        "id": "DxKOj1Vt7nV5"
      }
    },
    {
      "cell_type": "code",
      "source": [
        "is_bird,_,probs = learn.predict(PILImage.create('bird.jpg'))\n",
        "print(f\"This is a: {is_bird}.\")\n",
        "print(f\"Probability it's a bird: {probs[0]:.4f}\")"
      ],
      "metadata": {
        "execution": {
          "iopub.status.busy": "2024-06-16T02:41:26.323266Z",
          "iopub.execute_input": "2024-06-16T02:41:26.324102Z",
          "iopub.status.idle": "2024-06-16T02:41:26.420086Z",
          "shell.execute_reply.started": "2024-06-16T02:41:26.324059Z",
          "shell.execute_reply": "2024-06-16T02:41:26.419375Z"
        },
        "trusted": true,
        "id": "u4oru7X97nV5"
      },
      "execution_count": null,
      "outputs": []
    },
    {
      "cell_type": "markdown",
      "source": [
        "Good job, resnet18. :)\n",
        "\n",
        "So, as you see, in the space of a few years, creating computer vision classification models has gone from \"so hard it's a joke\" to \"trivially easy and free\"!\n",
        "\n",
        "It's not just in computer vision. Thanks to deep learning, computers can now do many things which seemed impossible just a few years ago, including [creating amazing artworks](https://openai.com/dall-e-2/), and [explaining jokes](https://www.datanami.com/2022/04/22/googles-massive-new-language-model-can-explain-jokes/). It's moving so fast that even experts in the field have trouble predicting how it's going to impact society in the coming years.\n",
        "\n",
        "One thing is clear -- it's important that we all do our best to understand this technology, because otherwise we'll get left behind!"
      ],
      "metadata": {
        "id": "KYawl-1S7nV5"
      }
    },
    {
      "cell_type": "markdown",
      "source": [
        "Now it's your turn. Click \"Copy & Edit\" and try creating your own image classifier using your own image searches!\n",
        "\n",
        "If you enjoyed this, please consider clicking the \"upvote\" button in the top-right -- it's very encouraging to us notebook authors to know when people appreciate our work."
      ],
      "metadata": {
        "id": "DVgulNQT7nV6"
      }
    }
  ]
}